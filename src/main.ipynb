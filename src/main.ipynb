{
 "cells": [
  {
   "cell_type": "code",
   "execution_count": 3,
   "id": "e5f8c8af",
   "metadata": {},
   "outputs": [
    {
     "name": "stdout",
     "output_type": "stream",
     "text": [
      "Pc Choice: paper\n",
      " You Lost\n",
      "Pc Choice: scissors\n",
      "You Won\n",
      "Pc Choice: rock\n",
      "You Won\n",
      "Pc Choice: paper\n",
      "TIE!!!\n",
      "None\n"
     ]
    }
   ],
   "source": [
    "import random \n",
    "\n",
    "\n",
    "class RockPaperScissorsGame:\n",
    "    def __init__(self,name):\n",
    "        self.name = name\n",
    "        \n",
    "        self.possible_choices=['rock','paper','scissors']\n",
    "        \n",
    "    def get_user_choice(self):\n",
    "        \n",
    "        user_choice= input(f\"Enter Your Choice to play({self.possible_choices})\")\n",
    "        if user_choice.lower() in self.possible_choices:\n",
    "            return user_choice.lower()\n",
    "        \n",
    "        print('Invalid choice please try again')\n",
    "        return self.get_user_choice()\n",
    "    \n",
    "    def get_pc_choice(self):\n",
    "        return random.choice(self.possible_choices)\n",
    "    \n",
    "    \n",
    "    def winner(self,user_choice,pc_choice):\n",
    "        if user_choice==pc_choice:\n",
    "          return  print(\"TIE!!!\")\n",
    "            \n",
    "        win_combination=[('rock','scissors'),('scissors','paper'),('paper','rock')]\n",
    "        for win_comb in win_combination:\n",
    "            if (user_choice==win_comb[0]) & (pc_choice==win_comb[1]):\n",
    "                return \"You Won\"\n",
    "                \n",
    "        return \" You Lost\"\n",
    "    \n",
    "    \n",
    "    def play(self):\n",
    "        user_input=self.get_user_choice()\n",
    "        pc_input= self.get_pc_choice()\n",
    "        print(f\"Pc Choice: {pc_input}\")\n",
    "        print(self.winner(user_input,pc_input))\n",
    "        \n",
    "\n",
    "if __name__=='__main__':\n",
    "    game= RockPaperScissorsGame(\"AmirHosein\")\n",
    "    \n",
    "    while True:\n",
    "        game.play()\n",
    "        \n",
    "        continue_choosing= input(\"press any key to play again or press q to finish the game...\")\n",
    "        if continue_choosing.lower() =='q':\n",
    "            break \n",
    "           "
   ]
  }
 ],
 "metadata": {
  "kernelspec": {
   "display_name": "python_tutorial",
   "language": "python",
   "name": "python3"
  },
  "language_info": {
   "codemirror_mode": {
    "name": "ipython",
    "version": 3
   },
   "file_extension": ".py",
   "mimetype": "text/x-python",
   "name": "python",
   "nbconvert_exporter": "python",
   "pygments_lexer": "ipython3",
   "version": "3.13.5"
  }
 },
 "nbformat": 4,
 "nbformat_minor": 5
}
